{
 "cells": [
  {
   "cell_type": "markdown",
   "metadata": {},
   "source": [
    "# 3. FELADAT\n",
    "\n",
    "A feladatsort Python nyelven kell megoldani a jupyter notebookban. A programok legyenek modulárisak, használjanak függvényeket! Az ábrák legyenek áttekinthetőek, és szerepeljen rajtuk tengelyfelirat!\n",
    "\n",
    "Az előre megadott cellákon ne változtassunk!"
   ]
  },
  {
   "cell_type": "markdown",
   "metadata": {},
   "source": [
    "# Függvényillesztés a lineáris $\\chi^2$ módszerrel\n",
    "\n",
    "\n",
    "A lineáris $\\chi^2$-illesztés módszere olyan modellek paramétereinek meghatározására alkalmas, ahol az illesztendő függvény felírható tetszőleges függvények lineárkombinációjaként, feltéve, hogy az illesztési paraméterek csak a lineárkombináció együtthatóinak szerepét töltik be, vagyis\n",
    "\n",
    "$$ y(\\mathbf{a}, \\mathbf{x}) = \\sum_k a_k f_k(\\mathbf{x}), $$\n",
    "\n",
    "ahol $\\mathbf{a}$ a keresett paraméterekből alkotott vektor vektor, $\\mathbf{x}$ pedig a független változó. További feltétel, hogy az $f_k(\\mathbf{x})$ többváltozós függvények az összes $\\textbf{x}$ mérési pontban kiértékelhetők legyenek. Amennyiben a mérési hiba gauss-i, úgy az $y_i$ mért értékek hibáját egy $\\sigma_i$ értékkel jellemezhetjük, ahol az $i$ index a mérési pontokon fut. A függvényillesztés jóságát a\n",
    "\n",
    "$$\n",
    "\\chi^2(\\mathbf{a})\n",
    "    = \\sum_i \\frac{\\left[ y(\\mathbf{a}, \\mathbf{x}_i) - y_i \\right]^2}{\\sigma_i^2}\n",
    "    = \\sum_i \\frac{\\left[ \\sum_k a_k f_k(\\mathbf{x}_i) - y_i \\right]^2}{\\sigma_i^2}\n",
    "$$\n",
    "\n",
    "mennyiséggel jellemezhetjük, mely Gauss-eloszlású hiba esetében egzaktul következik a _maximum likelihood_ módszerből. A legjobban illeszkedő modellre a $\\chi^2$ kifejezésének értéke minimális, azaz azokat az $a_k$ paramétereket keressük, melyek mellett $\\chi^2$ parciális deriváltjai eltűnnek:\n",
    "\n",
    "$$\n",
    "\\frac{\\partial\\chi^2(\\mathbf{a})}{\\partial a_k} = 0\n",
    "$$\n",
    "\n",
    "minden $a_k$-ra. A parciális deriváltakra így felírt egyenletrendszer általában nem lineáris, így a megoldására közvetlen gyökkereső módszerekkel nem sok esélyünk van. Amennyiben azonban az $y(\\mathbf{a}, \\mathbf{x})$ modellt a fent bevezett lineárkombináció alakjában adjuk meg, úgy könnyen belátható, hogy a deriváltak nullává tétele a kövezkező egyenletrendszerre vezet:\n",
    "\n",
    "$$\n",
    "\\frac{\\partial\\chi^2(\\mathbf{a})}{\\partial a_k} =\n",
    "    2 \\cdot \\sum_i \\left[ \\frac{1}{\\sigma_i^2} \\cdot \n",
    "        \\left( \n",
    "            \\sum_j a_j f_j(\\mathbf{x}_i) - y_i\n",
    "        \\right) \\cdot f_k(\\mathbf{x}_i) \\right] = 0.\n",
    "$$\n",
    "\n",
    "Ez már lineáris egyenletrendszer az $a_k$ együtthatókra, hiszen az $y_i$ mért értékek és az $f_k(\\mathbf{x}_i)$ bázisfüggvények az $\\mathbf{x}_i$ mérési pontokban ismertek. Könnyű belátni, hogy némi átírás után bevezethető egy $X_{ik}$, ún. tervmátrix, és egy $b_i$ hibával redukált vektor:\n",
    "\n",
    "$$\n",
    "X_{ik} = \\frac{f_k(\\mathbf{x}_i)}{\\sigma_i} \\quad \\quad \\quad\n",
    "b_i = \\frac{y_i}{\\sigma_i}.\n",
    "$$\n",
    "\n",
    "A parciális deriváltak nullává tételével felírt egyenletrendszer ezekkel a jelölésekkel\n",
    "\n",
    "$$\n",
    "    \\sum_i \\left[ \\left( \\sum_j a_j X_{ij} - b_i \\right) X_{ik} \\right] = 0\n",
    "$$\n",
    "\n",
    "alakúnak adódik, mely átrendezés után \n",
    "\n",
    "$$\n",
    "\\sum_i \\sum_j X_{ij} X_{ik} a_j  = \\sum_i X_{ik} b_i,\n",
    "$$\n",
    "\n",
    "vagy mátrixos írásmóddal\n",
    "\n",
    "$$\n",
    "\\mathbf{X}^{T} \\mathbf{X} \\mathbf{a} = \\mathbf{X}^{T} \\mathbf{b}\n",
    "$$\n",
    "\n",
    "alakot ölt. Az egyenletet $\\mathbf{a}$-ra megoldva megkapjuk a $\\chi^2$-et minimalizáló paramétereket.\n",
    "\n",
    "## Az illeszkedés jósága: a redukált $\\chi^2$\n",
    "\n",
    "Mivel a $\\chi^2$-re felírt kifejezés függ a mérési pontok számától, ezért a $\\chi^2$ értéke nem használható arra, hogy két, különböző mérési sorozat esetében megállapítsuk, hogy ugyanaz a modell mennyire jól illeszkedik az egyik vagy másik adatsorra. Éppen ezért érdemes bevezetni a redukált $\\chi^2$ nevű mennyiséget:\n",
    "\n",
    "$$\n",
    "\\chi^2_\\nu = \\frac{\\chi^2}{\\nu},\n",
    "$$\n",
    "\n",
    "ahol $\\nu = N - M$ a szabadsági fokok száma, azaz a mérési adatpontok száma mínusz az illesztendő paraméterek száma. Jó illesztésről akkor beszélhetünk, ha $\\chi^2_\\nu \\approx 1$.\n",
    "\n",
    "## Az illesztett paraméterek aszimptotikus hibája\n",
    "\n",
    "A lineáris $\\chi^2$ módszerrel illesztett modellek paramétereinek hibáját úgy becsülthetjük meg, hogy tekintjük a $\\chi^2(\\mathbf{a})$ függvény második parciális deriváltjaiból alkotott mátrixot, hiszen a $\\chi^2$ kifejezésének Taylor-sorában az ennek megfelelő tag nem tűnik el minimum környezetében. Tekintve, hogy\n",
    "\n",
    "$$\n",
    "\\frac{1}{2}\\frac{\\partial^2 \\chi^2(\\mathbf{a})}{\\partial a_k \\partial a_l} =\n",
    "    \\sum_i X_{ik} X_{il} = \\sum_i \\frac{f_k(\\mathbf{x}_i) f_l(\\mathbf{x}_i)}{\\sigma_i^2} =\n",
    "    \\alpha_{kl},\n",
    "$$\n",
    "\n",
    "az így bevezett $\\mathbf{\\alpha} = \\mathbf{X}^{T} \\mathbf{X}$ szimmetrikus mátrixról belátható, hogy annak $\\mathbf{C} = \\mathbf{\\alpha}^{-1}$ inverze, az ún. kovarianciamátrix, jól jellemzi az illesztett paraméterek hibáját és kovarianciáját. Az $a_k$ paraméter hibája egyszerűen $\\sigma_{a_k}^2 = C_{kk}$, míg az $a_k$ és $a_l$ paraméterek kovarianciája a $ \\textrm{cov}(a_k, a_l) = C_{kl}$ mátrixelem. Az így kiszámított hibák ún. aszimptotikus hibák, hiszen csupán a $\\chi^2$ felület másodrendű közelítését veszik figyelembe a minimumhely környezetében.\n",
    "\n",
    "## Hibabecslés a bootstrap módszerrel\n",
    "\n",
    "Az illesztett paraméterek hibájának pontos megbecslését olyan Monte Carlo módszerrel végezhetnénk el, mely képes mintavételezni az illesztési paraméterek pontos $p(\\mathbf{a})$ együttes eloszlásfüggvényét. Ehelyett egy gyakran használt, egyszerűbb, de igen hasznos eljárás a [bootstrap](https://outdoors.stackexchange.com/questions/11709/whats-the-purpose-of-the-sling-on-the-heel-of-boots) módszer, ahol az adatokból visszatevéses véletlen mintavételezéssel új, azonos hosszúságú adatsort hozunk létre. Az illesztést az új adatsorra végezzük el. Majd az eredeti adatsorból a mintavételezést és az illesztést megismételjük. Kellően sokszor megismételve az eljárást az illesztési paraméterekre egy-egy eloszlást kapunk, melyeknek meghatározhatjuk a várható értékét, szórását és kovarianciáit. A legjobban illeszkedő modellparamétereknek tekinthetjük az eloszlások várható értékét, míg illesztési hibának a szórásukat.\n",
    "\n",
    "\n",
    "## Irodalomjegyzék\n",
    "\n",
    "* Press, Teukolsky, Vetterling & Flannery: Numerical Recipes (in C), 3. kiadás, Cambridge University Press, 15.4. fejezet"
   ]
  },
  {
   "cell_type": "markdown",
   "metadata": {},
   "source": [
    "# Feladatok\n",
    "\n",
    "## 1. feladatrész\n",
    "\n",
    "Az alábbi függvény egy véletlenszerű adatsort generál, mérési folyamatot szimulál. Az előre megadott cellákon ezért ne változtassunk!\n",
    "Írjunk egy 'myfit' függvényt, mely az adatokra parabolát illeszt! A program ne beépített függvényillesztő rutint használjon, hanem végezze el a számolást a fent definiált $X_{ij}$ mátrix előállításával, és felírt lineáris egyenletrendszer megoldásával! Az egyenletrendszer megoldására tetszőleges függvénykönyvtár használható. Ábrázoljuk az adatokat és az eredményt! Próbáljuk meg úgy megírni a függvényt, hogy az tetszőleges fokszámú polinom illesztésére is alkalmas legyen!"
   ]
  },
  {
   "cell_type": "markdown",
   "metadata": {},
   "source": [
    "## KIADOTT FELADATNÁL KIVESSZÜK A \"CSAK A MI VERZIÓNKBAN\" SOROKAT"
   ]
  },
  {
   "cell_type": "code",
   "execution_count": 1,
   "metadata": {},
   "outputs": [],
   "source": [
    "import numpy as np\n",
    "import matplotlib.pyplot as plt\n",
    "\n",
    "def random_data(N, M=0):\n",
    "    a = ( np.random.rand() + 1 ) / 5 * np.random.choice([-1,1])\n",
    "    b = ( np.random.rand() + 1 ) * np.random.choice([-1,1])\n",
    "    c = - 32 * ( np.random.rand() + 1 ) * a\n",
    "    x = np.linspace(-(N-1)/2, (N-1)/2, N)\n",
    "    sigma = 2 * (np.random.rand(N) + 1)\n",
    "    y = np.random.normal(a * x**2 + b * x + c, sigma)\n",
    "    if M>0:\n",
    "        idx = random.choice(range(N),M,replace=False)                     # ne legyen ismétlés\n",
    "        y[idx] = np.min(y) + np.random.rand(M) * (np.max(y) - np.min(y))  # ne legyenek egyformák\n",
    "    return x, y, sigma"
   ]
  },
  {
   "cell_type": "code",
   "execution_count": 2,
   "metadata": {},
   "outputs": [],
   "source": [
    "x, y, sigma = random_data(21)"
   ]
  },
  {
   "cell_type": "code",
   "execution_count": 3,
   "metadata": {},
   "outputs": [
    {
     "data": {
      "text/plain": [
       "Text(0, 0.5, 'Mérési értékek')"
      ]
     },
     "execution_count": 3,
     "metadata": {},
     "output_type": "execute_result"
    },
    {
     "data": {
      "image/png": "[encoded data removed]",
      "text/plain": [
       "<Figure size 640x480 with 1 Axes>"
      ]
     },
     "metadata": {},
     "output_type": "display_data"
    }
   ],
   "source": [
    "# ábra a mérési pontokkal és hibaintervallumokkal\n",
    "plt.errorbar(x, y, yerr=sigma, fmt=\"xb\", ecolor=\"r\")\n",
    "plt.xlabel(\"Mérési helyek\")\n",
    "plt.ylabel(\"Mérési értékek\")"
   ]
  },
  {
   "cell_type": "code",
   "execution_count": 4,
   "metadata": {},
   "outputs": [],
   "source": [
    "# az illesztést elvégző program helye\n",
    "\n",
    "def terv(x, y, sig, power):\n",
    "    X = [] # ez lesz a tervmátrix\n",
    "    for i in range(len(x)): \n",
    "        X.append(x[i]**range(power+1)/sig[i])\n",
    "    return X\n",
    "\n",
    "def myfit(x, y, sig, power): # ezzel a függvénnyel történik az illesztés egyenletrendszeresen\n",
    "    # ez is működni fog bármilyen polinomra, a \"power\" változó a polinom rendje\n",
    "    b = y/sig\n",
    "    X = terv(x, y, sig, power)\n",
    "    Xt = np.transpose(X) # transzponált\n",
    "    # beépített függvénnyel megoldjuk az egyenletrendszert\n",
    "    a = np.linalg.solve(np.matmul(Xt,X),np.matmul(Xt,b))\n",
    "    return a"
   ]
  },
  {
   "cell_type": "code",
   "execution_count": 5,
   "metadata": {},
   "outputs": [],
   "source": [
    "# ez a szebb, kényelmesebb ábrázoláshoz kell\n",
    "def func(a,x):\n",
    "    func_val = []\n",
    "    # amikor kiszámoljuk \"a\"-t a \"myfit\" függvénnyel\n",
    "    # x helyébe belerakunk egy linspace-t\n",
    "    # és ki tudjuk rajzolni a kapott parabolát\n",
    "    # kizárólag \"a\" hossza határozza meg, hogy hanyadfokú a polinom\n",
    "    # ezért működik 2-nél magasabb fokokra is\n",
    "    for i in x:\n",
    "        k = 0\n",
    "        for j in range(len(a)):\n",
    "            k += (a[j])*(i**j)\n",
    "        func_val.append(k)\n",
    "    # így áll össze a polinom : \n",
    "    # \"i**j\" : egy \"x\" mellett végigiterálunk az összes paraméteren\n",
    "    # annyiadikra emeljük \"x\"-et, ahanyadik paraméterről van szó\n",
    "    return func_val"
   ]
  },
  {
   "cell_type": "code",
   "execution_count": 6,
   "metadata": {},
   "outputs": [
    {
     "data": {
      "text/plain": [
       "<matplotlib.legend.Legend at 0x7fcd69e9fb20>"
      ]
     },
     "execution_count": 6,
     "metadata": {},
     "output_type": "execute_result"
    },
    {
     "data": {
      "image/png": "[encoded data removed]",
      "text/plain": [
       "<Figure size 640x480 with 1 Axes>"
      ]
     },
     "metadata": {},
     "output_type": "display_data"
    }
   ],
   "source": [
    "# ábra a másodfokú illesztéssel\n",
    "\n",
    "\n",
    "# a tényleges fittelés\n",
    "param = myfit(x,y,sigma,2)\n",
    "xx = np.linspace(-10,10,200)\n",
    "\n",
    "\n",
    "plt.plot(xx, func(param,xx), color = \"g\", label = \"fitted\")\n",
    "plt.errorbar(x, y, yerr=sigma, fmt=\"xb\", ecolor=\"r\", label = \"measured\")\n",
    "plt.title(\"Másodfokú illesztés\")\n",
    "plt.xlabel(\"Mérési helyek\")\n",
    "plt.ylabel(\"Mérési értékek\")\n",
    "plt.legend()"
   ]
  },
  {
   "cell_type": "markdown",
   "metadata": {},
   "source": [
    "## 2. feladatrész\n",
    "\n",
    "Írjuk függvényt, mely meghatározza az illesztett paraméterek aszimptotikus hibáját és kovarianciáját."
   ]
  },
  {
   "cell_type": "code",
   "execution_count": 7,
   "metadata": {},
   "outputs": [],
   "source": [
    "# a szórások és aszimptotikus hibák meghatározása\n",
    "\n",
    "def hiba(x, y, a, sig, power):\n",
    "    X = terv(x, y, sig, power)\n",
    "    Xt = np.transpose(X)\n",
    "    cov = np.linalg.inv(np.matmul(Xt,X))\n",
    "    return cov"
   ]
  },
  {
   "cell_type": "code",
   "execution_count": null,
   "metadata": {},
   "outputs": [],
   "source": [
    "print(\"\\n \\t \\t KOVARIANCIA MÁTRIX\")\n",
    "kovariancia = hiba(x, y, param, sigma, 2)\n",
    "kovariancia"
   ]
  },
  {
   "cell_type": "markdown",
   "metadata": {},
   "source": [
    "## 3. feladatrész\n",
    "\n",
    "a) Határozzuk meg az illesztett parabola paramétereinek eloszlását és hibáját a bootstrap módszer segítségével!\n",
    "A bootstrap eljárás során mintát veszünk az eredeti adatpárok sorozatából ugyanannyiszor, mint amennyi az eredeti adatsor hossza, ismétlődést is megengedve.\n",
    "Az új adatsorra meghatározzuk az illesztési paramétereket.\n",
    "Ezt az eljárást sokszor megismételve a kapott illesztési paraméterek eloszlásáról készítsünk hisztogramot,\n",
    "valamint számítsuk ki a paraméterek várható értékét és szórását!\n",
    "Hasonlítsuk össze a kapott értékeket a kovarianciamátrixból számolt aszimptotikus hibával!\n",
    "\n",
    "b) Scatter ploton ábrázoljuk, hogy mennyire korrelálnak az egyes polinomegyütthatók egymással!"
   ]
  },
  {
   "cell_type": "code",
   "execution_count": null,
   "metadata": {},
   "outputs": [],
   "source": [
    "# a bootstrap módszer megvalósítása\n",
    "# a várható értékek, szórások és kovarianciák meghatározása\n"
   ]
  },
  {
   "cell_type": "code",
   "execution_count": null,
   "metadata": {},
   "outputs": [],
   "source": [
    "# a bootstrap módszer megvalósítása\n",
    "\n",
    "power = 2 # ez a polinom rendje\n",
    "iteration = 1000 # ennyiszer iterálunk\n",
    "\n",
    "\n",
    "a = np.array([]) # ebbe kerülnek a paraméterek\n",
    "for i in range(iteration):\n",
    "    xc = np.array([]) # ebbe kerül a random kiválasztott \"x\"\n",
    "    yc = np.array([]) # ebbe kerül a random kiválasztott \"y\"\n",
    "    sigc = np.array([]) # ebbe kerül a random kiválasztott \"sigma\"\n",
    "    for i in range(len(x)): # N hosszú adatsorból N adatot választunk ki\n",
    "        # random választunk egy indexet, ez jelöli mi kerül \"xc\", \"yc\" és \"sigc\" tömbökbe\n",
    "        index = np.random.randint(0,len(x))\n",
    "        # beleírjuk a tömbökbe a választott ponthármast\n",
    "        xc = np.append(xc,x[index])\n",
    "        yc = np.append(yc,y[index])\n",
    "        sigc = np.append(sigc,sigma[index])\n",
    "    # power rend mellett power+1 szám kerül az \"a\" tömbbe\n",
    "    a = np.append(a,myfit(xc,yc,sigc,power))"
   ]
  },
  {
   "cell_type": "code",
   "execution_count": null,
   "metadata": {},
   "outputs": [],
   "source": [
    "# az \"a\" tömbben benne vannak az illesztett paraméterek\n",
    "# power rend mellett az i. paraméter értékei az \"a\" tömbben (k*(power+1)+i)-edik helyen vannak\n",
    "# ahol \"k\" természetes szám\n",
    "# ne kelljen ellenőrizgetni, kifut-e \"k\" a megengedett indextartományból, okos indexeléssel oldjuk meg\n",
    "params = a[0::(power+1)] # első elem\n",
    "for i in range(1,power+1): # többi elem\n",
    "    params = np.vstack((params,a[i::(power+1)]))\n",
    "# a params-ban a vstack segítségével rendeztük az adatokat :\n",
    "# az i. paraméter értékei a \"params\" i. elemét képző tömbben vannak"
   ]
  },
  {
   "cell_type": "code",
   "execution_count": null,
   "metadata": {},
   "outputs": [],
   "source": [
    "hisztx = [[] for _ in range(power+1)]\n",
    "hiszty = [[] for _ in range(power+1)]\n",
    "for i in range(power+1):\n",
    "    a, b, c = plt.hist(params[i],bins=(iteration//35),density = True)\n",
    "    hisztx[i] = np.copy(b[:-1:1])\n",
    "    hiszty[i] = np.copy(a)\n",
    "    plt.hist(params[i],bins=(iteration//35),color = \"green\",density = True)\n",
    "    xlabel = str(i)+\". rendű tag koefficiense\"\n",
    "    plt.xlabel(xlabel)\n",
    "    plt.ylabel(\"Darabszám\")\n",
    "    plt.show()"
   ]
  },
  {
   "cell_type": "code",
   "execution_count": null,
   "metadata": {
    "scrolled": true
   },
   "outputs": [],
   "source": [
    "# a várható értéket np.mean() segítségével kiszámolhatjuk\n",
    "# mivel nincsenek súlyozva a tömb értékei valószínűséggel\n",
    "expected = np.mean(params, axis=1)\n",
    "# a paraméterek szórása\n",
    "stdev = np.std(params, axis=1)"
   ]
  },
  {
   "cell_type": "code",
   "execution_count": null,
   "metadata": {},
   "outputs": [],
   "source": [
    "# egy dictionary-ben tároljuk az adatok, átláthatóbb ábrázolás érdekében\n",
    "adatok = {};\n",
    "for i in range(power+1):\n",
    "    adatok[i] = np.array([expected[i],stdev[i]])\n",
    "# kiíratás táblázatként\n",
    "print(\"\\n \\t \\t BOOTSTRAP MÓDSZER\\n\")\n",
    "print(\"{:<8} {:<25} {:<25}\".format(\"Rend\",\"Várható érték\",\"Szórás\"))\n",
    "for k, v in adatok.items():\n",
    "    lang, perc = v\n",
    "    print (\"{:<8} {:<25} {:<25}\".format(k, lang, perc))"
   ]
  },
  {
   "cell_type": "code",
   "execution_count": null,
   "metadata": {},
   "outputs": [],
   "source": [
    "# összehasonlítás : bootstrap | kovariancia mátrix\n",
    "hasonlitas = {}\n",
    "for i in range(power+1):\n",
    "    hasonlitas[i] = np.append(adatok[i],kovariancia[i][i])\n",
    "# kiíratás táblázatként\n",
    "print(\"\\n \\t \\t \\t BOOTSTRAP MÓDSZER  |  KOVARIANCIA \\n\")\n",
    "print(\"{:<8} {:<25} {:<25} {:<25}\".format(\"Rend\",\"Várható érték\",\"Szórás\",\"Kovarincia mátrixból\"))\n",
    "for k, v in hasonlitas.items():\n",
    "    lang, perc, asd = v\n",
    "    print(\"{:<8} {:<25} {:<25} {:<25}\".format(k, lang, perc, asd))"
   ]
  },
  {
   "cell_type": "code",
   "execution_count": null,
   "metadata": {},
   "outputs": [],
   "source": [
    "# scatter plots\n"
   ]
  },
  {
   "cell_type": "code",
   "execution_count": null,
   "metadata": {},
   "outputs": [],
   "source": [
    "valtozo0 = hisztx+hisztx[0]\n",
    "valtozo = -np.flip(hisztx[1::1],0)\n",
    "ttt = np.append(valtozo,hisztx)"
   ]
  },
  {
   "cell_type": "code",
   "execution_count": null,
   "metadata": {},
   "outputs": [],
   "source": [
    "valtozo0 = hisztx+hisztx[0]\n",
    "valtozo = -np.flip(valtozo0[1::1],0)\n",
    "ttt = np.append(valtozo,hisztx)"
   ]
  },
  {
   "cell_type": "code",
   "execution_count": null,
   "metadata": {},
   "outputs": [],
   "source": [
    "kombinacio = (power+1)*(power+1-1)//2\n",
    "data_corr = [[] for _ in range(int(kombinacio))] # hasonlóan végig korreláljuk a 4 esetet\n",
    "for i in range(power+1):\n",
    "    for j in range(i+1,power+1):\n",
    "        data_corr0 = np.correlate(hiszty[i],hiszty[j],\"full\")\n",
    "        data_corr[(power+1)*i+power+1-j-2] = np.copy(data_corr0)"
   ]
  },
  {
   "cell_type": "code",
   "execution_count": null,
   "metadata": {
    "scrolled": false
   },
   "outputs": [],
   "source": [
    "fig, axs = plt.subplots((kombinacio+1)//2 , 2, figsize=(24,12))\n",
    "plt.suptitle(\"PARAMÉTEREK KORRELÁCIÓJA\",fontsize=30)\n",
    "fig.tight_layout(pad=6.0)\n",
    "\n",
    "\n",
    "for i in range(power+1):\n",
    "    for j in range(i+1,power+1):\n",
    "        index = (power+1)*i+power+1-j-2\n",
    "        if (index+1 <= kombinacio):\n",
    "            \n",
    "            valtozo0 = hisztx[index]+np.abs(hisztx[index][0])\n",
    "            valtozo = -np.flip(valtozo0[1::1],0)\n",
    "            ttt = np.append(valtozo,valtozo0)\n",
    "\n",
    "            axs[index//2,index%2].plot(ttt, data_corr[index])\n",
    "            axs[index//2,index%2].set_title(str(i) + \". és \" + str(j) + \". rend\",fontsize=25)\n",
    "\n",
    "\n",
    "\n",
    "for ax in axs.flat:\n",
    "    ax.set_xlabel(\"t\", fontsize=22)\n",
    "    ax.set_ylabel(\"$T$ (korreláció)\", fontsize = 22)"
   ]
  },
  {
   "cell_type": "code",
   "execution_count": null,
   "metadata": {},
   "outputs": [],
   "source": [
    "params"
   ]
  },
  {
   "cell_type": "code",
   "execution_count": null,
   "metadata": {},
   "outputs": [],
   "source": [
    "from matplotlib import pyplot\n",
    "from mpl_toolkits.mplot3d import Axes3D\n",
    "import random"
   ]
  },
  {
   "cell_type": "code",
   "execution_count": null,
   "metadata": {},
   "outputs": [],
   "source": [
    "fig = pyplot.figure()\n",
    "ax = Axes3D(fig)\n",
    "\n",
    "ax.scatter(params[0],params[1],params[2])"
   ]
  },
  {
   "cell_type": "code",
   "execution_count": null,
   "metadata": {},
   "outputs": [],
   "source": [
    "# sík vetület\n",
    "pyplot.scatter(params[0],params[1])"
   ]
  },
  {
   "cell_type": "code",
   "execution_count": null,
   "metadata": {},
   "outputs": [],
   "source": [
    "# sík vetület\n",
    "pyplot.scatter(params[0],params[2])"
   ]
  },
  {
   "cell_type": "code",
   "execution_count": null,
   "metadata": {},
   "outputs": [],
   "source": [
    "# sík vetület\n",
    "pyplot.scatter(params[1],params[2])"
   ]
  },
  {
   "cell_type": "markdown",
   "metadata": {},
   "source": [
    "## 4. feladatrész\n",
    "\n",
    "Próbáljuk meg eldönteni, hogy az adataink hanyadfokú polinomot követnek valójában!\n",
    "Ehhez használjuk az alábbi két módszert! Mivel mindkettőben a kiszámolt mennyiségek statisztikusan ingadozók, többszöri futtatással megvizsgálhatjuk, hogy mennyire megbízható a fokszám leolvasása."
   ]
  },
  {
   "cell_type": "markdown",
   "metadata": {},
   "source": [
    "## a)\n",
    "Számítsuk ki $n=1$-től legalább 7-ig $n$-edfokú polinom illesztésére a redukált $\\chi^2$ értékét!\n",
    "Írassuk ki és ábrázoljuk is $n$ függvényében, próbáljuk leolvasni a tényleges fokszámot!\n",
    "\n",
    "Idemásolva az adatsort generáló utasítást, azt is próbáljuk ki, milyen gyakran következtetnénk $n=2$-re!"
   ]
  },
  {
   "cell_type": "code",
   "execution_count": null,
   "metadata": {},
   "outputs": [],
   "source": [
    "# a redukált chi^2 értékét számoló függvény\n"
   ]
  },
  {
   "cell_type": "code",
   "execution_count": null,
   "metadata": {},
   "outputs": [],
   "source": [
    "# beleírjuk tömbökbe a paraméterek várható értékét és szórását\n",
    "# a kovarianca mátrixból kapott és a bootstrap módszerrel kapott szórást kiátlagoljuk\n",
    "\n",
    "adat = np.array([])\n",
    "szoras = np.array([])\n",
    "for i in range(len(hasonlitas)):\n",
    "    adat = np.append(adat,hasonlitas[i][0])\n",
    "    szoras = np.append(szoras,(hasonlitas[i][1]+hasonlitas[i][2])/2)"
   ]
  },
  {
   "cell_type": "code",
   "execution_count": null,
   "metadata": {},
   "outputs": [],
   "source": [
    "def chi(a,x,y,sig):\n",
    "    vals = func(a,x)\n",
    "    sol = np.sum(((vals-y)/sig)**2)\n",
    "    return sol/(len(x)-len(a))"
   ]
  },
  {
   "cell_type": "code",
   "execution_count": null,
   "metadata": {},
   "outputs": [],
   "source": [
    "chi(adat,x,y,sigma)"
   ]
  },
  {
   "cell_type": "code",
   "execution_count": null,
   "metadata": {},
   "outputs": [],
   "source": [
    "def chifok(x,y,sig,power):\n",
    "    # fittelés\n",
    "    a = myfit(x,y,sig,power)\n",
    "    \n",
    "    # itt hívjuk meg a \"chi\" függvényt\n",
    "    return chi(a,x,y,sig)"
   ]
  },
  {
   "cell_type": "code",
   "execution_count": null,
   "metadata": {},
   "outputs": [],
   "source": [
    "# modell választás próba\n",
    "# nézzük meg chi2r értékét n függvényében\n"
   ]
  },
  {
   "cell_type": "code",
   "execution_count": null,
   "metadata": {},
   "outputs": [],
   "source": [
    "max_pow = 8 # ez a maximum fokszám\n",
    "iteration0 = 750 # minden \"max_pow\" rendű polinom-illesztést ennyiszer végzünk el\n",
    "\n",
    "chi_it = [[] for _ in range(int(max_pow))]\n",
    "\n",
    "\n",
    "number = 0\n",
    "\n",
    "for j in range(iteration0):\n",
    "    fff = np.array([]) # buffer\n",
    "    x0, y0, sigma0 = random_data(21)\n",
    "    for i in range(1,max_pow+1):\n",
    "        app = chifok(x0,y0,sigma0,i)\n",
    "        fff = np.append(fff,app)\n",
    "        chi_it[i-1] = np.append(chi_it[i-1],app)\n",
    "    if list(fff).index(min(fff)) == 1:\n",
    "        number +=1 # ez számolja, hogy mennyiszer lesz a 2-nél a minimum\n",
    "\n",
    "\n",
    "# itt vannak a kiátlagolt chi értékek\n",
    "chirr = np.mean(chi_it,axis = 1)"
   ]
  },
  {
   "cell_type": "code",
   "execution_count": null,
   "metadata": {},
   "outputs": [],
   "source": [
    "print(\"A(z) \" + str(iteration0) + \" darab futrásból \" + str(number) + \" darabnál lesz a legjobb választás a parabola - redukált $\\chi$ szempontjából.\")"
   ]
  },
  {
   "cell_type": "code",
   "execution_count": null,
   "metadata": {},
   "outputs": [],
   "source": [
    "# ábrázolás\n",
    "\n",
    "plt.plot(np.arange(1,max_pow+1,1), chirr, color = \"b\")\n",
    "plt.title(\"redukált $\\chi^2$ fokszám függése\")\n",
    "plt.xlabel(\"Fokszám\")\n",
    "plt.ylabel(\"$\\chi^2$\")"
   ]
  },
  {
   "cell_type": "code",
   "execution_count": null,
   "metadata": {},
   "outputs": [],
   "source": [
    "# ábrázolás\n",
    "\n",
    "plt.plot(np.arange(2,max_pow+1,1), chirr[1::], color = \"b\")\n",
    "plt.title(\"redukált $\\chi^2$ fokszám függése (1. elem nélkül)\")\n",
    "plt.xlabel(\"Fokszám\")\n",
    "plt.ylabel(\"$\\chi^2$\")"
   ]
  },
  {
   "cell_type": "code",
   "execution_count": null,
   "metadata": {},
   "outputs": [],
   "source": [
    "# Tapasztalatok:\n"
   ]
  },
  {
   "cell_type": "markdown",
   "metadata": {},
   "source": [
    "Csak az látszik, hogy az $n=1$ illesztés az nagyon rossz választás lenne, magasabb fokoknál pedig nagyjából $1$ körül mozog a $\\chi^2$ értéke - sőt, túlnyomórészt nem is az $n=2$-nél van minimum."
   ]
  },
  {
   "cell_type": "markdown",
   "metadata": {},
   "source": [
    "## b)\n",
    "Alkalmazzuk a \"Modell választás\" anyagrészben leírt módszert!\n",
    "Az adathalmazból minden második pontot a traning halmazba, a maradékot a validációs halmazba téve számoljuk ki az $n$-edfokú polinom illesztési együtthatókat a training halmazon, majd a kiszámolt illesztési együtthatókkal határozzuk meg a validációs halmazra vonatkozó $\\chi^2$ értéket. Ne normáljunk a redukált $\\chi^2$ értékhez hasonlóan! Ábrázoljuk ezt is $n$ függvényében, és próbáljuk megállapítani a valódi fokszámot!\n",
    "\n",
    "Idemásolva az adatsort generáló utasítást, azt is próbáljuk ki, milyen gyakran lesz a minimum az $n=2$ közelében!"
   ]
  },
  {
   "cell_type": "code",
   "execution_count": null,
   "metadata": {},
   "outputs": [],
   "source": [
    "# a training és validációs halmaz létrehozása és számolások\n"
   ]
  },
  {
   "cell_type": "code",
   "execution_count": null,
   "metadata": {},
   "outputs": [],
   "source": [
    "max_power = 8\n",
    "iteration1 = 1000\n",
    "chi_it = [[] for _ in range(int(max_power))]\n",
    "\n",
    "number = 0\n",
    "\n",
    "for i in range(iteration1):\n",
    "    x0, y0, sigma0 = random_data(21)\n",
    "    x_t=x0[1::2] # training x\n",
    "    x_v=x0[0::2] # validációs x\n",
    "    y_t=y0[1::2] # training y\n",
    "    y_v=y0[0::2] # validációs y\n",
    "    sig_t=sigma0[1::2] # training sigma\n",
    "    sig_v=sigma0[0::2] #validációs sigma\n",
    "    fff = np.array([])\n",
    "    for j in range(1,max_power+1):\n",
    "        #app = chifok(x_t,y_t,sig_t,j)*np.abs(len(x_t)-(j+1))\n",
    "        app = chi(myfit(x_t,y_t,sig_t,j),x_v,y_v,sig_v)\n",
    "        fff = np.append(fff,app)\n",
    "        chi_it[j-1] = np.append(chi_it[j-1],app)\n",
    "    if list(fff).index(min(fff)) == 1:\n",
    "        number +=1 # ez számolja, hogy mennyiszer lesz a 2-nél a minimum\n",
    "print(\"TRAINING - VALIDÁCIÓS \\n A(z) \" + str(iteration1) + \" darab futrásból \" + str(number) + \" darabnál lesz a legjobb választás a parabola - redukált $\\chi$ szempontjából.\")\n",
    "chival = np.mean(chi_it,axis = 1)"
   ]
  },
  {
   "cell_type": "code",
   "execution_count": null,
   "metadata": {},
   "outputs": [],
   "source": [
    "chival"
   ]
  },
  {
   "cell_type": "code",
   "execution_count": null,
   "metadata": {},
   "outputs": [],
   "source": [
    "# ábrázolás\n",
    "\n",
    "plt.plot(np.arange(1,max_pow+1,1), chival, color = \"b\")\n",
    "plt.title(\"Validációs halmaz átlag $\\chi^2$ értéke fokszám függvényében\")\n",
    "plt.xlabel(\"Fokszám\")\n",
    "plt.ylabel(\"$\\chi^2$\")"
   ]
  },
  {
   "cell_type": "code",
   "execution_count": null,
   "metadata": {},
   "outputs": [],
   "source": [
    "# ábrázolás\n",
    "# az utolsó elem nélkül\n",
    "plt.plot(np.arange(1,max_power,1), chival[0:7:1], color = \"b\")\n",
    "plt.title(\"Validációs halmaz átlag $\\chi^2$ értéke fokszám függvényében\")\n",
    "plt.xlabel(\"Fokszám\")\n",
    "plt.ylabel(\"$\\chi^2$\")"
   ]
  },
  {
   "cell_type": "code",
   "execution_count": null,
   "metadata": {},
   "outputs": [],
   "source": [
    "# Tapasztalatok:\n"
   ]
  },
  {
   "cell_type": "markdown",
   "metadata": {},
   "source": [
    "Nyilvánvalóan látszik, hogy a parabola lesz a legjobb modell. Az $n=1$ eset úgyszint szemet szúróan rossz modell, de az előző módszerhez képest látszik, hogy $n=2$-ben van a globális minimum. Itt általában $N$ iteráció mellett $0.75N$-$0.95N$ esetben \"tűnik jó választásnak\" a parabola modell."
   ]
  },
  {
   "cell_type": "markdown",
   "metadata": {},
   "source": [
    "## <font color='green5'>5. Szorgalmi feladatrész</font>\n",
    "\n",
    "A mellékelt fájlok olyan adatokat tartalmaznak, ahol öt független változó és egy skalár mért érték között van összefüggés. Írjunk függvényt, mely többváltozós polinomokat illeszt az adatokra a lineáris $\\chi^2$ módszer segítségével.\n",
    "A többváltozós polinomok olyan összeg alakban felírt formulák, ahol az összeg minden tagja a változók egész kitevőjű hatványainak szorzata. Egy tag fokszáma a benne szereplő hatványkitevők összege. A többváltozós polinom fokszáma pedig a legnagyobb fokszámú tagjának fokszáma. Például a\n",
    "$$ p(x, y, z) = 3 + 5 x^2 + 4 x y z + 6 y z^3 $$\n",
    "háromváltozós, negyedfokú polinom, mely vegyes tagokat is tartalmaz.\n",
    "\n",
    "Az illesztést kétféleképp próbálhatjuk megírni:\n",
    "\n",
    "a) Feltételezzük, hogy a függvény a független változók külön-külön függvényeinek összegeként közelíthető, ezért kihagyjuk a vegyes tagokat.\n",
    "\n",
    "b) Figyelembe vesszük a vegyes tagokat is, így viszont a fokszám növekedtével gyorsan nő a polinom tagjainak száma.\n",
    "\n",
    "2-od, 3-adfokú illesztést próbáljunk! Utána határozzuk meg az illesztési paraméterek hibáit, és keressünk módot arra, hogy miként mutatható be ábrán, hogy mennyire illeszkedik a többváltozós polinom az adatokhoz!\n",
    "\n",
    "Először saját kis próbafájllal teszteljük a függvényeinket, azután használjuk a következő adatfájlokat:\n",
    "\n",
    "**small.dat** és **big.dat** a kooplexen a course direktoriban találhatók. Ne másoljuk át a saját kooplexes direktoriba, hanem olvassuk közvetlen az előbbi direktoriból, a patht is megadva, pl. np.loadtxt(\"/home/course/small.dat\") !\n",
    "\n",
    "A fájlok oszlopai:\n",
    "\n",
    "* 1-5: független változó komponensei\n",
    "* 6: függő változó (mért érték)\n",
    "* 7: mérési hiba"
   ]
  },
  {
   "cell_type": "code",
   "execution_count": null,
   "metadata": {},
   "outputs": [],
   "source": [
    "# többváltozós illesztés\n"
   ]
  },
  {
   "cell_type": "code",
   "execution_count": null,
   "metadata": {},
   "outputs": [],
   "source": [
    "datas = np.loadtxt(\"/home/course/small.dat\")\n",
    "x = datas.T[0:5]\n",
    "y = datas.T[5]\n",
    "sigma = datas.T[6]"
   ]
  },
  {
   "cell_type": "code",
   "execution_count": null,
   "metadata": {},
   "outputs": [],
   "source": [
    "from itertools import product as itr_product"
   ]
  },
  {
   "cell_type": "code",
   "execution_count": null,
   "metadata": {},
   "outputs": [],
   "source": [
    "def terv_sima(x,power):\n",
    "    p = power+1\n",
    "    ret = []\n",
    "    for i0 in range(5):\n",
    "        for i1 in range(p):\n",
    "            ret.append(x[i0]**i1)\n",
    "    return ret\n",
    "\n",
    "\n",
    "\n",
    "def terv_vegyes(x,power):\n",
    "    p = power+1\n",
    "    ret = []\n",
    "    for i0 in range(p):\n",
    "        for i1 in range(p-i0):\n",
    "            for i2 in range(p-i0-i1):\n",
    "                for i3 in range(p-i0-i1-i2):\n",
    "                    for i4 in range(p-i0-i1-i2-i3):\n",
    "                            ret.append(x[0]**i0*x[1]**i1*x[2]**i2*x[3]**i3*x[4]**i4)\n",
    "    return ret\n",
    "\n",
    "\n",
    "  \n",
    "\n",
    "\n",
    "\n",
    "def func_vegyes(a,x_list,power):\n",
    "    output = []\n",
    "    for i in x_list.T:\n",
    "        output.append(sum(a*terv_vegyes(i,power)))\n",
    "    return output\n",
    "\n",
    "def func_sima(a,x_list,power):\n",
    "    output = []\n",
    "    for i in x_list.T:\n",
    "        output.append(sum(a*terv_sima(i,power)))\n",
    "    return output\n",
    "\n",
    "\n",
    "\n",
    "def fit_sima(x,y,sigma,power):\n",
    "    b = y/sigma\n",
    "#    X = terv(x,,y,sigma,power)/sigma\n",
    "    X = terv_sima(x,power)/sigma\n",
    "    Xt = np.transpose(X)\n",
    "    a = np.linalg.solve(np.matmul(X,Xt),np.matmul(X,b))\n",
    "    return a, X\n",
    "\n",
    "\n",
    "def fit_vegyes(x,y,sigma,power):\n",
    "    b = y/sigma\n",
    "    X = terv_vegyes(x,power)/sigma\n",
    "    Xt = np.transpose(X)\n",
    "    a = np.linalg.solve(np.matmul(X,Xt),np.matmul(X,b))\n",
    "    return a, X"
   ]
  },
  {
   "cell_type": "code",
   "execution_count": null,
   "metadata": {},
   "outputs": [],
   "source": [
    "power = 2\n",
    "\n",
    "\n",
    "a, X = fit_vegyes(np.array(x),y,sigma,power)\n",
    "\n",
    "values = func_vegyes(a,x,power)\n",
    "plt.plot(x[1],values,\"o\")"
   ]
  },
  {
   "cell_type": "code",
   "execution_count": null,
   "metadata": {},
   "outputs": [],
   "source": []
  }
 ],
 "metadata": {
  "anaconda-cloud": {},
  "kernelspec": {
   "display_name": "Python 3 (ipykernel)",
   "language": "python",
   "name": "python3"
  },
  "language_info": {
   "codemirror_mode": {
    "name": "ipython",
    "version": 3
   },
   "file_extension": ".py",
   "mimetype": "text/x-python",
   "name": "python",
   "nbconvert_exporter": "python",
   "pygments_lexer": "ipython3",
   "version": "3.10.12"
  }
 },
 "nbformat": 4,
 "nbformat_minor": 2
}
