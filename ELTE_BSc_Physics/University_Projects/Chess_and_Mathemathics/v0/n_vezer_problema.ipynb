{
 "cells": [
  {
   "cell_type": "markdown",
   "id": "arranged-helena",
   "metadata": {},
   "source": [
    "# N-vezér probléma"
   ]
  },
  {
   "cell_type": "markdown",
   "id": "upper-harvest",
   "metadata": {},
   "source": [
    "## Bevezetés"
   ]
  },
  {
   "cell_type": "markdown",
   "id": "binding-jimmy",
   "metadata": {},
   "source": [
    "Az $N$-vezér probléma egy sakkfeladvány, melynek lényege, hogy hányféleképpen tudunk $N$ vezért elhelyezni egy $N \\times N$-es sakktáblán úgy, hogy azok a sakk szabályai szerint ne üssék egymást. A probléma érdekes és egyszerűnek tűnik, viszont nem triviális, és numerikus megoldása is nagy számítógépes erőforrásokat igényel - az első kilenc $N$-vezér probléma futtatása kevesebb, mint $10$ percet vett igénybe, de a tizedik már sokkal többet, mint az előzőek együtt."
   ]
  },
  {
   "cell_type": "markdown",
   "id": "loved-catering",
   "metadata": {},
   "source": [
    "## Megvalósítás"
   ]
  },
  {
   "cell_type": "markdown",
   "id": "coral-possession",
   "metadata": {},
   "source": [
    "Előzetes műveletek címszó alá kerültek azon kódrészek, melyek technikai okokból elengedhetetlenek, de a sakkprobléma megoldásához közvetlen módon nem járulnak hozzá. Ezeket nem részletezném, csupán azért részei a notebook-nak, mert ezek nélkül nem futna le. (Vannak látszólag redundáns függvények is, melyek egyszer sincsenek meghívva, mankóként használtam őket.)\n",
    "\n",
    "A következő szekció az $N$-vezér problémát ténylegesen megvalósító függvényeket tartalmazza. Minden matematikai művelet itt található. Ezek a függvények már részletezve vannak. A definíció feletti sorban található, hogy mi a függvény szerepe, és a függvénydefiníción belül (kommentek formájában) szerepelnek a fontos lépések magyarázatai.\n",
    "\n",
    "A probléma megoldását implementáló függvény (\"program(n)\") először meghatározza adott $N$-re a különböző megoldásokat (nem csak a megoldások számát, a vezérek koordinátáit is), majd ezen megoldásokon végigfut, kivizsgálva a szimmetriákat (egy-egy megoldás tükrözöttje-e (bármelyik átlón és középvonalon keresztül) vagy elforgatottja-e a másiknak - és ezeknek az összes lehetséges lineárkombinációja) visszaadja a lényegesen különböző megoldásokat. Végül a különböző és a lényegesen különböző megoldások koordinátáit elmenti egy file-ba, számukat kiírja a cella alá. Először a \"program(n)\" optimalizált rekurzív magjáról lesz szó, mely visszaad egy rész-megoldás-halmazt. Ezután a rekurzív mag eredményeinek tisztításáról, a végeredményekig való eljutásról lesz szó."
   ]
  },
  {
   "cell_type": "markdown",
   "id": "answering-spell",
   "metadata": {},
   "source": [
    "### Előzetes műveletek"
   ]
  },
  {
   "cell_type": "markdown",
   "id": "permanent-above",
   "metadata": {},
   "source": [
    "#### Szükséges könyvtárak importálása"
   ]
  },
  {
   "cell_type": "code",
   "execution_count": 1,
   "id": "connected-prefix",
   "metadata": {},
   "outputs": [],
   "source": [
    "import numpy as np\n",
    "import scipy\n",
    "import os\n",
    "import matplotlib.pyplot as plt\n",
    "from matplotlib import colors"
   ]
  },
  {
   "cell_type": "markdown",
   "id": "neutral-reaction",
   "metadata": {},
   "source": [
    "#### File-kezeléshez szükséges függvények"
   ]
  },
  {
   "cell_type": "code",
   "execution_count": 2,
   "id": "italic-experiment",
   "metadata": {},
   "outputs": [],
   "source": [
    "def filein(name, n):\n",
    "    a = []\n",
    "    with open(name) as file:\n",
    "        lines = file.readlines()\n",
    "    for i in lines:\n",
    "        a.append([])\n",
    "        for j in range(n):\n",
    "            a[-1].append(int(i[j]))\n",
    "    return a\n",
    "    \n",
    "def fileout(a, name):\n",
    "    s = \"\"\n",
    "    n = len(a)\n",
    "    for i in range(n):\n",
    "        for j in range(n):\n",
    "            s += str(a[i][j])\n",
    "        s += \"\\n\"\n",
    "    with open(name, \"w\") as file:\n",
    "        file.write(s)\n",
    "        \n",
    "def output(data, name):\n",
    "    s = \"\"\n",
    "    if(data!=[]):\n",
    "        n = len(data[0])\n",
    "        for i in data:\n",
    "            for j in i:\n",
    "                s += \"[\" + str(j[0]) + \",\" + str(j[1]) + \"] \"\n",
    "            s += \"\\n\"\n",
    "    with open(name, \"w\") as file:\n",
    "        file.write(s)"
   ]
  },
  {
   "cell_type": "markdown",
   "id": "chief-retention",
   "metadata": {},
   "source": [
    "#### Adatstruktúrák kezeléséhez szükséges függvények"
   ]
  },
  {
   "cell_type": "code",
   "execution_count": 3,
   "id": "neither-dance",
   "metadata": {},
   "outputs": [],
   "source": [
    "def cp(a):\n",
    "    asd = []\n",
    "    for i in a:\n",
    "        asd.append(i.copy())\n",
    "    return asd\n",
    "\n",
    "def cp_extra(a):\n",
    "    asd = []\n",
    "    for i in a:\n",
    "        asd.append(cp(i))\n",
    "    \n",
    "    return asd"
   ]
  },
  {
   "cell_type": "markdown",
   "id": "bizarre-bouquet",
   "metadata": {},
   "source": [
    "### Az $N$-vezér problémát megoldó függvények"
   ]
  },
  {
   "cell_type": "markdown",
   "id": "loved-prevention",
   "metadata": {},
   "source": [
    "A sakktáblát egy $2D$ tömbbel (mátrixszal) reprezentáltam. Egy $M$ mátrix esetén $M[x]$ a sakktábla $(x+1)$-edik sora és $M[x][y]$ a sakktábla $(x+1)$-edik sorának $(y+1)$-edik eleme.\n",
    "\n",
    "Kiinduló helyzetben a sakktáblát reprezentáló mátrix minden eleme \"$1$\". Azokba a cellákba, ahova vezért helyeztünk, \"$2$\"-es kerül. \"$0$\" kerül azokba a cellákba, melyeket bármelyik vezér üti.\n",
    "\n",
    "$\\textbf{Megjegyzés :}$ Zavaró lehet, hogy mindig $(n+1)$-edik vagy $(j-1)$-edik sorról vagy oszlopról van szó. Azért jön be a $\\pm 1$, mert a Python $0$-tól indexel."
   ]
  },
  {
   "cell_type": "markdown",
   "id": "senior-alert",
   "metadata": {},
   "source": [
    "#### A rekurzív mag által használt függvények"
   ]
  },
  {
   "cell_type": "markdown",
   "id": "laughing-technician",
   "metadata": {},
   "source": [
    "Az alábbi két függvény a két leggyakrabban meghívott függvény. E két függvény szerepe, hogy egy sorban le tudjuk ellenőrizni, szabad-e adott cellába vezért helyezni (van-e ott vezér vagy ütve van-e a cella), illetve szintén egy sorban el tudjuk végezni a vezér-elhelyezés műveletét."
   ]
  },
  {
   "cell_type": "code",
   "execution_count": 4,
   "id": "popular-integration",
   "metadata": {},
   "outputs": [],
   "source": [
    "# egy NxN-es mátrixba bejelöl a megadott cellába egy vezért, és bejelöli az általa ütött cellákat\n",
    "def gridn(L, pos):\n",
    "    x = pos[0]\n",
    "    y = pos[1]\n",
    "    N = len(L) # hányszor hányas a sakktábla\n",
    "    \n",
    "    for i in range(N): # dupla ciklussal átláthatóbb a megoldás, de egy N-es faktorral lassabb, és ez sokat számíŧ\n",
    "        L[x][i] = 0 # a vezér sorának nullázása\n",
    "        L[i][y] = 0 # a vezér oszlopának nullázása\n",
    "        # a diagonális és az antidiagonális nullázása\n",
    "            # az alábbi (A) ellenőrzésekre azért van szükség, mert a (B) egyeneseknek csak a sakktáblára eső\n",
    "            # részét kell figyelembe venni - különben túl is indexelné az L tömböt\n",
    "        a = x+y-i # (B)\n",
    "        if((a>-1)and(a<N)): # (A)\n",
    "            L[i][a] = 0\n",
    "        a = i-x+y # (B)\n",
    "        if((a>-1)and(a<N)): # (A)\n",
    "            L[i][a] = 0\n",
    "\n",
    "# leellenőrzi, szabad-e az adott cellába vezért helyezni\n",
    "def check(l, pos):\n",
    "    x = pos[0]\n",
    "    y = pos[1]\n",
    "    res = 1\n",
    "    if((l[x][y] == 0)or(l[x][y] == 2)): # \"ha ütve van a cella vagy vezér van ott\"\n",
    "        res = 0\n",
    "    return res"
   ]
  },
  {
   "cell_type": "markdown",
   "id": "national-reform",
   "metadata": {},
   "source": [
    "#### A rekurzió"
   ]
  },
  {
   "cell_type": "markdown",
   "id": "appropriate-optimization",
   "metadata": {},
   "source": [
    "Ez a függvény a megoldás motorja. Az \"$l$\" argumentum a sakktábla aktuális állását reprezentáló $2D$ tömb, a \"$vec$\" tömbben tárolódnak a részmegoldások - pl. az $5.$ vezér letételekor ebben a változóban kapja meg a függvény, hogy hol van az előző $4$ -, míg a \"$data$\" tömbhöz a megoldások vannak hozzáfűzve, és tárolva benne - egy sor tartalmazza az $n\\times2$ koordinátát.\n",
    "\n",
    "A rekurzióban meghívott rekurzió megkap egy másolatot az előző iteráció részmegoldásáról a \"$vec$\" és az $l$ tömb formájában. A \"$data$\" tömbről nem másolat készül - direkt módon ugyanazt a \"$data$\" tömböt módosítja a rekuzió minden iterációja, mint amit először megadtunk neki (az üres tömböt). Az előbbi azért jó, mert a másolat módosítva lesz, és a ciklus következő iterációjában ugyanazt a tömböt szerenénk használni. Az utóbbi azért praktikus, mert egy függvényhívás-gráfban globális változóként viselkedik.\n",
    "\n",
    "Az \"$l$\" tömbben szerepel az az információ, hogy hányszor hányas sakktábláról van szó, a \"$vec$\" tömb alapján pedig meg tudjuk határozni, hogy hol tartunk a rekurziós fán (a hossza kifejezi, hogy hány darab vezért helyeztünk már el). A rekuzió kilépési feltétele ezek alapján egy $N\\times N$-es sakktábla esetén az, hogy \"$vec$\" hossza eléri $N$-t. Ekkor a \"$vec$\" tömbben tárolt $n\\times2$ koordináta hozzáfűződik a \"$data$\" tömbhöz.\n",
    "\n",
    "Legyen a \"$vec$\" tömb hossza \"$n$\". Amennyiben $n<N$, egy ciklus leellenőrzi cellánként, hogy az $(n+1)$-edik sorban hol van szabad hely. Ha talál szabad cellát, elhelyez oda egy vezért. Ezután meghívja a függvény saját magát, immár tudva, hogy az $(n+1)$-edik sorban már van egy vezér, és az $(n+2)$-edik sorban kell keresni a következőt. Amennyiben nem talál szabad helyet a következő sorban, a \"$vec$\" tömb automatikusan törlődik, és a rekurzió előző iterációjában lévő ciklus következő iterációjára ugrunk - lényegében ez történik akkor is, amikor találunk megoldást, csak ekkor már végigmentünk az összes soron és elmentjük a \"$vec$\" tartalmát."
   ]
  },
  {
   "cell_type": "code",
   "execution_count": 5,
   "id": "funky-excess",
   "metadata": {},
   "outputs": [],
   "source": [
    "def recn(l, vec, data):\n",
    "    \n",
    "    N = len(l) # hányszor hányas a sakktábla\n",
    "    n = len(vec) # mennyi vezér van lehelyezve = ahanyadik sorindexnél keressük a megoldást\n",
    "    lc = cp(l) # csinálunk egy biztonsági (de szükséges) mentést a tömbről, hogy az iterációk alatt ne változzon\n",
    "    if(n<N): # \"ha még nem raktunk vezért az utolsó sorba\"\n",
    "        for j in range(N): # az (n-1)-edik sor celláin végigmegyünk\n",
    "            vecc = cp(vec) # hasonló biztonsági mentés\n",
    "            lcc = cp(lc) # hasonló biztonsági mentés\n",
    "            pos = [n, j] # az (n-1)-edik sor (j+1)-edik celláját vizsgáljuk\n",
    "            if(check(lcc, pos)==1): # \"ha szabad a cella\"\n",
    "                gridn(lcc, pos) # elhelyezzük a vezért\n",
    "                vecc.append(pos) # hozzáfűzzük a részmegoldáshoz az imént elhelyezett vezér koordinátáit\n",
    "                recn(lcc, vecc, data)\n",
    "    if(n==N): # kilépési feltétel, \"ha annyi vezért elhelyeztünk, amennyi sora van a sakktáblának\"\n",
    "        data.append(vec) # elmentjük a jó megoldást"
   ]
  },
  {
   "cell_type": "markdown",
   "id": "imported-madonna",
   "metadata": {},
   "source": [
    "#### Sorrend ellenőrzés"
   ]
  },
  {
   "cell_type": "markdown",
   "id": "integral-schema",
   "metadata": {},
   "source": [
    "A program tesztelése során sokszor működött rosszul a rekurzió - és végül egyszer jól. Ennek kivizsgálása céljából írtam az alábbi két függvényt. Összességében az alsó függvény - a felső segítségével - meghatározza, hogy visszakaptuk-e többször ugyanazt a megoldást oly módon, hogy egy-egy megoldásban ugyazokba a cellákba kerültek vezérek, csak más sorrendben. A rekurzióban használt matematikai modell nem engedi meg, hogy kétszer visszakapjuk ugyanazt a megoldást, de ezzel az ellenőrzéssel kicsi erőforrással meggyőződhetünk arról, hogy legalább ebben biztosan követi a matematikai modellt az implementációja is."
   ]
  },
  {
   "cell_type": "code",
   "execution_count": 6,
   "id": "wicked-generic",
   "metadata": {},
   "outputs": [
    {
     "data": {
      "text/plain": [
       "[[[1, 2], [3, 4]], [[3, 4], [1, 3]]]"
      ]
     },
     "execution_count": 6,
     "metadata": {},
     "output_type": "execute_result"
    }
   ],
   "source": [
    "# ez a függvény egy-egy megoldásról eldönti, hogy megegyeznek-e a fent említett módon\n",
    "def dup(a, b):\n",
    "    f = False\n",
    "    res = 0\n",
    "    n = len(a)\n",
    "    for i in a:\n",
    "        for j in b:\n",
    "            if(i==j):\n",
    "                res += 1\n",
    "    if(res==n):\n",
    "        f = True\n",
    "    return f\n",
    "\n",
    "# egy egész megoldáshalmazon végigmegyünk, és kidobáljuk az egyező megoldásokat\n",
    "def duplicate(data):\n",
    "    if(data==[]):\n",
    "        s = []\n",
    "    else:\n",
    "        s = [data[0]]\n",
    "        \n",
    "        for i in data:\n",
    "            buff = 0\n",
    "            for j in s:\n",
    "                if(dup(i,j)):\n",
    "                    buff+=1\n",
    "            if(buff==0):\n",
    "                s.append(i)\n",
    "    return s\n",
    "\n",
    "\n",
    "# a függvények ellenőrzése\n",
    "dat = [[[1, 2],[3, 4]],[[3, 4],[1, 3]],[[1, 2],[3, 4]]]\n",
    "duplicate(dat)"
   ]
  },
  {
   "cell_type": "markdown",
   "id": "violent-village",
   "metadata": {},
   "source": [
    "#### Mátrix-Koordinátasor Konverzió"
   ]
  },
  {
   "cell_type": "markdown",
   "id": "brave-decade",
   "metadata": {},
   "source": [
    "A fentiekben már előfordult a két használt adatstruktúra.\n",
    "\n",
    "Az első egy $N\\times N$-es mátrix, melyben tároljuk az összes cellát. Ez azért praktikus, mert könnyen bejelölhető rajta, hogy melyik cellának milyen státusza van, és a forgatások / tükrözések kivitelezhetőbbek vele - az utóbbi miatt szükséges a konverzió függvények definiálása.\n",
    "\n",
    "A második adatstruktúra egy tömb, melyben csak a vezérek celláinak koordinátái vannak tárolva. Ez praktikus a megoldások tárolására, mert nem tárolunk el feleslegesen sok \"$0$\"-t. Másfelől ez a negyedik verziója a notebook-nak, és az első kettő alatt megtelt a RAM memória, ezért döntöttem egy kompaktabb megoldás-tárolás mellett."
   ]
  },
  {
   "cell_type": "code",
   "execution_count": 7,
   "id": "foreign-cooling",
   "metadata": {},
   "outputs": [],
   "source": [
    "# vezér-koordinátákból mátrixba\n",
    "def pos_to_mat(pos):\n",
    "    n = len(pos)\n",
    "    l = [] # létrehozzuk a mátrixot és feltöltjük \"1\"-esekkel\n",
    "    for i in range(n):\n",
    "        l.append([])\n",
    "        for j in range(n):\n",
    "            l[-1].append(1)\n",
    "    for i in pos: # ahol van vezér, oda \"2\"-est teszünk\n",
    "        l[i[0]][i[1]] = 2\n",
    "    return l\n",
    "\n",
    "\n",
    "# mátrixból vezér-koordinátákba\n",
    "def mat_to_pos(l):\n",
    "    n = len(l)\n",
    "    res = [] # ide jönnek a vezérek koordinátái\n",
    "    for i in range(n):\n",
    "        for j in range(n):\n",
    "            if(l[i][j]==2): # \"ha az [i][j] cellában vezér van\"\n",
    "                res.append([i, j]) # hozzáfűzzük a vezér koordinátáit a tömbhöz\n",
    "    return res"
   ]
  },
  {
   "cell_type": "markdown",
   "id": "handled-differential",
   "metadata": {},
   "source": [
    "#### Forgatások és tükrözések"
   ]
  },
  {
   "cell_type": "markdown",
   "id": "similar-green",
   "metadata": {},
   "source": [
    "A \"Nyolckirálynő-probléma\" Wikipédia cikkben a \"különböző megoldások\" megegyezik a rekuzió végereményére hattatott \"duplicate()\" visszatérési értékével. A \"lényegesen különböző megoldások\" azok, amelyek nem tükrözöttjei és/vagy elforgatottjai egymásnak. Ebben a szekcióban szerepelnek az elemi forgatásokat és tükrözéseket megvalósító függvények, majd az ezek összes lineárkombinációját kiszámoló függvény, és végül az a függvény, mely az előbbiek segítségével egy egész megoldáshalmazból kiválogatja a lényegesen különböző megoldásokat."
   ]
  },
  {
   "cell_type": "code",
   "execution_count": 8,
   "id": "complex-accommodation",
   "metadata": {},
   "outputs": [],
   "source": [
    "# elemi forgatást és tükrözést megvalósító függvények\n",
    "\n",
    "# elemi forgatás (90 fokkal)\n",
    "def rot_elem(l0):\n",
    "    n = len(l0)\n",
    "    l = pos_to_mat(l0)\n",
    "    lc = cp(l)\n",
    "    for i in range(n):\n",
    "        for j in range(n):\n",
    "            lc[j][n-1-i] = l[i][j] # koordináta-transzformáció\n",
    "    return mat_to_pos(lc)\n",
    "\n",
    "# tükrözés horizontális tengelyen\n",
    "def mirror_hor_elem(l0):\n",
    "    n = len(l0)\n",
    "    l = pos_to_mat(l0)\n",
    "    lc = cp(l)\n",
    "    for i in range(n):\n",
    "        for j in range(n):\n",
    "            lc[n-1-i][j] = l[i][j] # koordináta-transzformáció\n",
    "    return mat_to_pos(lc)\n",
    "\n",
    "# tükrözés vertikális tengelyen\n",
    "def mirror_vert_elem(l0):\n",
    "    n = len(l0)\n",
    "    l = pos_to_mat(l0)\n",
    "    lc = cp(l)\n",
    "    for i in range(n):\n",
    "        for j in range(n):\n",
    "            lc[i][n-1-j] = l[i][j] # koordináta-transzformáció\n",
    "    return mat_to_pos(lc)\n",
    "\n",
    "# tükrözés diagonális tengelyen\n",
    "def mirror_diag_elem(l0):\n",
    "    n = len(l0)\n",
    "    l = pos_to_mat(l0)\n",
    "    lc = cp(l)\n",
    "    for i in range(n):\n",
    "        for j in range(n):\n",
    "            lc[j][i] = l[i][j] # koordináta-transzformáció\n",
    "    return mat_to_pos(lc)\n",
    "\n",
    "# tükrözés antidiagonális tengelyen\n",
    "def mirror_antidiag_elem(l0):\n",
    "    n = len(l0)\n",
    "    l = pos_to_mat(l0)\n",
    "    lc = cp(l)\n",
    "    for i in range(n):\n",
    "        for j in range(n):\n",
    "            lc[n-1-j][n-1-i] = l[i][j] # koordináta-transzformáció\n",
    "    return mat_to_pos(lc)"
   ]
  },
  {
   "cell_type": "code",
   "execution_count": 9,
   "id": "structured-resistance",
   "metadata": {},
   "outputs": [],
   "source": [
    "# a tükrözés és az elforgatás összes lineárkombinációját kiszámoló függvény\n",
    "    # a fentit kiszámolja \"a\"-ra, majd leellenőrzi, \"b\" benne van-e ebben a halmazban\n",
    "def rm(a, b):\n",
    "    f = True # ha nem egybevágóak a megoldások, True értéket ad vissza a függvény\n",
    "    res = 0\n",
    "    n = len(a)\n",
    "    dat = [cp(a)]\n",
    "    for i in range(3):\n",
    "        datc = rot_elem(cp(dat[-1]))\n",
    "        dat.append(datc)\n",
    "        dat.append(mirror_hor_elem(datc))\n",
    "        dat.append(mirror_vert_elem(datc))\n",
    "        dat.append(mirror_diag_elem(datc))\n",
    "        dat.append(mirror_antidiag_elem(datc))\n",
    "    # meglévő függvények segítségével leellenőrizzük, hogy az \"a\" megoldás egybevágó-e a \"b\"-vel\n",
    "    bs = duplicate(dat) # kiszedjük a megegyező megoldásokat a lineárkombinációk halmazából\n",
    "    bs.append(b) # hozzáfűzzük a \"b\" tömböt\n",
    "    s = duplicate(bs) # kiszedjük a megegyező megoldásokat\n",
    "    if(len(s)==len(bs)): # ha ezen két tömb hossza megegyezik, \"b\" egybevágó volt \"a\"-val\n",
    "        f = False\n",
    "    return f\n",
    "\n",
    "# kiválogatja a megoldáshalmazból a lényegesen különböző megoldásokat\n",
    "def rotmir(data):\n",
    "    if(data==[]):\n",
    "        s = []\n",
    "    else:\n",
    "        s = [data[0]] # a lényegesen különböző megoldások tömbje\n",
    "        for i in data: # végigmegyünk az összes megoldáson\n",
    "            buff = 0\n",
    "            for j in s: # ha nem egybevágó a megoldás egy lényegesen különböző megoldással sem,*\n",
    "                if(rm(i,j)):\n",
    "                    buff+=1\n",
    "            if(buff==0):\n",
    "                s.append(i) #* bekerül a lényegesen különböző megoldások halmazába\n",
    "    return s"
   ]
  },
  {
   "cell_type": "markdown",
   "id": "killing-precipitation",
   "metadata": {},
   "source": [
    "## Eredmények"
   ]
  },
  {
   "cell_type": "markdown",
   "id": "naughty-letters",
   "metadata": {},
   "source": [
    "A kompaktság kedvéért két utolsó függvényt definiáltam. A \"vezer(n)\" függvénynek csak azt kell megadni, hogy a hány-vezér-problémát szeretnénk megoldani - ez alapján kigenerál egy kezdőállapotú sakktáblát és a rekurzív függvény segítségével visszaadja a megoldáshalmazt. A \"program(n)\" tartalmazza az előző függvény meghívását is, ezen végez duplicate-ellenőrzést, egybevágóság-ellenőrzést, kiírja a képernyőre a megoldások számát, valamint elmenti a megoldásokat 2-2 (különböző és lényegesen különböző megoldáshalmazokat külön-külön) szöveges file-ba."
   ]
  },
  {
   "cell_type": "code",
   "execution_count": 10,
   "id": "split-regulation",
   "metadata": {},
   "outputs": [],
   "source": [
    "def vezer(n):\n",
    "    proba = []\n",
    "    for i in range(n):\n",
    "        proba.append([])\n",
    "        for j in range(n):\n",
    "            proba[-1].append(1)\n",
    "    data = []\n",
    "    recn(proba, [], data)\n",
    "    \n",
    "    return data"
   ]
  },
  {
   "cell_type": "code",
   "execution_count": 11,
   "id": "seventh-harvey",
   "metadata": {},
   "outputs": [],
   "source": [
    "def program(n):\n",
    "    res = vezer(n)\n",
    "    res0 = duplicate(res)\n",
    "    if(len(res0)==len(res)):\n",
    "        print(\"No duplicates found\")\n",
    "    else:\n",
    "        print(\"Duplicates found and eliminated\")\n",
    "    result = rotmir(res)\n",
    "    \n",
    "    output(res, \"vezer\" + str(n) + \"_kulonbozo.txt\")\n",
    "    output(result, \"vezer\" + str(n) + \"_lenyegesen_kulonbozo.txt\")\n",
    "    \n",
    "    print(str(n) + \" vezér probléma\")\n",
    "    print(\"\\t- különböző megoldásainak száma : \" + str(len(res)))\n",
    "    print(\"\\t- lényegesen különböző megoldásainak száma : \" + str(len(result)))"
   ]
  },
  {
   "cell_type": "markdown",
   "id": "loaded-scene",
   "metadata": {},
   "source": [
    "### Futtatás és ellenőrzés"
   ]
  },
  {
   "cell_type": "code",
   "execution_count": 12,
   "id": "herbal-humanitarian",
   "metadata": {},
   "outputs": [
    {
     "name": "stdout",
     "output_type": "stream",
     "text": [
      "No duplicates found\n",
      "1 vezér probléma\n",
      "\t- különböző megoldásainak száma : 1\n",
      "\t- lényegesen különböző megoldásainak száma : 1\n"
     ]
    }
   ],
   "source": [
    "program(1)"
   ]
  },
  {
   "cell_type": "code",
   "execution_count": 13,
   "id": "pressing-textbook",
   "metadata": {},
   "outputs": [
    {
     "name": "stdout",
     "output_type": "stream",
     "text": [
      "No duplicates found\n",
      "2 vezér probléma\n",
      "\t- különböző megoldásainak száma : 0\n",
      "\t- lényegesen különböző megoldásainak száma : 0\n"
     ]
    }
   ],
   "source": [
    "program(2)"
   ]
  },
  {
   "cell_type": "code",
   "execution_count": 14,
   "id": "private-ending",
   "metadata": {},
   "outputs": [
    {
     "name": "stdout",
     "output_type": "stream",
     "text": [
      "No duplicates found\n",
      "3 vezér probléma\n",
      "\t- különböző megoldásainak száma : 0\n",
      "\t- lényegesen különböző megoldásainak száma : 0\n"
     ]
    }
   ],
   "source": [
    "program(3)"
   ]
  },
  {
   "cell_type": "code",
   "execution_count": 15,
   "id": "touched-relation",
   "metadata": {},
   "outputs": [
    {
     "name": "stdout",
     "output_type": "stream",
     "text": [
      "No duplicates found\n",
      "4 vezér probléma\n",
      "\t- különböző megoldásainak száma : 2\n",
      "\t- lényegesen különböző megoldásainak száma : 1\n"
     ]
    }
   ],
   "source": [
    "program(4)"
   ]
  },
  {
   "cell_type": "code",
   "execution_count": 16,
   "id": "intensive-renewal",
   "metadata": {},
   "outputs": [
    {
     "name": "stdout",
     "output_type": "stream",
     "text": [
      "No duplicates found\n",
      "5 vezér probléma\n",
      "\t- különböző megoldásainak száma : 10\n",
      "\t- lényegesen különböző megoldásainak száma : 2\n"
     ]
    }
   ],
   "source": [
    "program(5)"
   ]
  },
  {
   "cell_type": "code",
   "execution_count": 17,
   "id": "round-cambodia",
   "metadata": {},
   "outputs": [
    {
     "name": "stdout",
     "output_type": "stream",
     "text": [
      "No duplicates found\n",
      "6 vezér probléma\n",
      "\t- különböző megoldásainak száma : 4\n",
      "\t- lényegesen különböző megoldásainak száma : 1\n"
     ]
    }
   ],
   "source": [
    "program(6)"
   ]
  },
  {
   "cell_type": "code",
   "execution_count": 18,
   "id": "plain-square",
   "metadata": {},
   "outputs": [
    {
     "name": "stdout",
     "output_type": "stream",
     "text": [
      "No duplicates found\n",
      "7 vezér probléma\n",
      "\t- különböző megoldásainak száma : 40\n",
      "\t- lényegesen különböző megoldásainak száma : 6\n"
     ]
    }
   ],
   "source": [
    "program(7)"
   ]
  },
  {
   "cell_type": "code",
   "execution_count": 19,
   "id": "decimal-toilet",
   "metadata": {},
   "outputs": [
    {
     "name": "stdout",
     "output_type": "stream",
     "text": [
      "No duplicates found\n",
      "8 vezér probléma\n",
      "\t- különböző megoldásainak száma : 92\n",
      "\t- lényegesen különböző megoldásainak száma : 12\n"
     ]
    }
   ],
   "source": [
    "program(8)"
   ]
  },
  {
   "cell_type": "code",
   "execution_count": 20,
   "id": "stuck-cheese",
   "metadata": {},
   "outputs": [
    {
     "name": "stdout",
     "output_type": "stream",
     "text": [
      "No duplicates found\n",
      "9 vezér probléma\n",
      "\t- különböző megoldásainak száma : 352\n",
      "\t- lényegesen különböző megoldásainak száma : 46\n"
     ]
    }
   ],
   "source": [
    "program(9)"
   ]
  },
  {
   "cell_type": "markdown",
   "id": "handled-costa",
   "metadata": {},
   "source": [
    "A Wikipédián szereplő megoldásokhoz képest nincs eltérés, sikeresnek mondható a megvalósítás."
   ]
  },
  {
   "cell_type": "markdown",
   "id": "unique-young",
   "metadata": {},
   "source": [
    "### Utószó - avagy mire nem jutott idő"
   ]
  },
  {
   "cell_type": "markdown",
   "id": "significant-liberia",
   "metadata": {},
   "source": [
    "A probléma először triviálisnak tűnt, meglepő volt meggyőződni az ellenkezőjéről. Örülök, hogy végül sikerült egy elég gyorsan futó, memória-kímélő megvalósításra jutni.\n",
    "\n",
    "Szerettem volna $N$ függvényében ábrázolni a futási időt. Érdekes lett volna meghatározni a program hatékonyságát.\n",
    "\n",
    "A megoldások manuálisan ellenőrizhetőek, de egy ábrázoló függvényt is szerettem volna készíteni, ami kirajzolja a sakktáblát és rá a vezéreket."
   ]
  }
 ],
 "metadata": {
  "kernelspec": {
   "display_name": "Python 3",
   "language": "python",
   "name": "python3"
  },
  "language_info": {
   "codemirror_mode": {
    "name": "ipython",
    "version": 3
   },
   "file_extension": ".py",
   "mimetype": "text/x-python",
   "name": "python",
   "nbconvert_exporter": "python",
   "pygments_lexer": "ipython3",
   "version": "3.9.7"
  }
 },
 "nbformat": 4,
 "nbformat_minor": 5
}
